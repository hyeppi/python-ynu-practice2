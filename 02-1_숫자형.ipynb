{
 "cells": [
  {
   "cell_type": "markdown",
   "metadata": {},
   "source": [
    "### 숫자형은 어떻게 만들고 사용할까? \n",
    "* 정수, 실수, 8진수, 16진수"
   ]
  },
  {
   "cell_type": "code",
   "execution_count": null,
   "metadata": {},
   "outputs": [],
   "source": [
    "# 정수형\n",
    "\n",
    "a = 123\n",
    "b = -178\n",
    "c = 0\n",
    "\n",
    "print(a)\n",
    "print(b)\n",
    "print(c)"
   ]
  },
  {
   "cell_type": "code",
   "execution_count": null,
   "metadata": {},
   "outputs": [],
   "source": [
    "print(type(a))\n",
    "print(type(111))\n",
    "print(type(\"111\"))"
   ]
  },
  {
   "cell_type": "code",
   "execution_count": 1,
   "metadata": {},
   "outputs": [
    {
     "name": "stdout",
     "output_type": "stream",
     "text": [
      "1.2\n",
      "-3.45\n",
      "<class 'float'>\n",
      "<class 'float'>\n"
     ]
    }
   ],
   "source": [
    "# 실수형 \n",
    "\n",
    "a = 1.2 \n",
    "b = -3.45\n",
    "\n",
    "print(a)\n",
    "print(b) \n",
    "\n",
    "print(type(a))\n",
    "print(type(b))"
   ]
  },
  {
   "cell_type": "code",
   "execution_count": null,
   "metadata": {},
   "outputs": [],
   "source": [
    "a = 4.24E10\n",
    "b = 4.24E-10\n",
    "\n",
    "print(a)\n",
    "print(b)"
   ]
  },
  {
   "cell_type": "code",
   "execution_count": null,
   "metadata": {},
   "outputs": [],
   "source": [
    "# 8진수\n",
    "\n",
    "a = 0o177 \n",
    "\n",
    "# 1\n",
    "b = 0o1\n",
    "\n",
    "# 8*1 + 1\n",
    "c = 0o11\n",
    "\n",
    "# 1 * (8 * 8) + 1 * (8) + 1\n",
    "d = 0o111\n",
    "\n",
    "# 1 * (8 * 8 * 8) + 1 * (8 * 8) + 1 * (8) + 1\n",
    "e = 0o1111\n",
    "\n",
    "print(a)\n",
    "print(b) \n",
    "print(c) \n",
    "print(d) \n"
   ]
  },
  {
   "cell_type": "code",
   "execution_count": null,
   "metadata": {},
   "outputs": [],
   "source": [
    "# 16진수 \n",
    "\n",
    "# 3 * (16 * 16) + 15 * (16) + 15\n",
    "a = 0x3ff\n",
    "\n",
    "# 1 \n",
    "b = 0x1\n",
    "\n",
    "# 1 * (16) + 1\n",
    "c = 0x11 \n",
    "\n",
    "# 1 * (16 * 16) + 1 * (16) + 1\n",
    "d = 0x111\n",
    "\n",
    "# 1 * (16 * 16 * 16) + 1 * (16 * 16) + 1 * (16) + 1\n",
    "e = 0x1111\n",
    "\n",
    "print(a)\n",
    "print(b)\n",
    "print(c)\n",
    "print(d)\n",
    "print(e)\n"
   ]
  },
  {
   "cell_type": "code",
   "execution_count": null,
   "metadata": {},
   "outputs": [],
   "source": [
    "# 사칙연산 \n",
    "\n",
    "a = 3\n",
    "b = 4 \n",
    "\n",
    "print(a + b) \n",
    "print(a - b) \n",
    "print(a * b) \n",
    "print(a / b) "
   ]
  },
  {
   "cell_type": "code",
   "execution_count": null,
   "metadata": {},
   "outputs": [],
   "source": [
    "print(48 / 2 * (9 + 3))"
   ]
  },
  {
   "cell_type": "code",
   "execution_count": null,
   "metadata": {},
   "outputs": [],
   "source": [
    "# x의 y제곱을 나타내는 **연산자\n",
    "\n",
    "a = 3 \n",
    "b = 4 \n",
    "\n",
    "print(a ** b)\n",
    "\n",
    "# 2의 3승\n",
    "print(2 ** 3)\n",
    "\n",
    "# 4의 3승\n",
    "print(4 ** 3)"
   ]
  },
  {
   "cell_type": "code",
   "execution_count": null,
   "metadata": {},
   "outputs": [],
   "source": [
    "# 나머지를 리턴하는 %연산자 \n",
    "\n",
    "a = 7 \n",
    "b = 3 \n",
    "\n",
    "print(a % b)\n",
    "print(5 % 2)"
   ]
  },
  {
   "cell_type": "code",
   "execution_count": 3,
   "metadata": {},
   "outputs": [
    {
     "name": "stdout",
     "output_type": "stream",
     "text": [
      "2\n",
      "2.3333333333333335\n"
     ]
    }
   ],
   "source": [
    "# 몫을 구하는 //연산자\n",
    "\n",
    "a = 7 \n",
    "b = 3 \n",
    "\n",
    "print(a // b)\n",
    "print(a / b)"
   ]
  },
  {
   "cell_type": "code",
   "execution_count": null,
   "metadata": {},
   "outputs": [],
   "source": [
    "a = \"123\"\n",
    "b = 123\n",
    "c = int(a)\n",
    "\n",
    "print(type(a))\n",
    "print(type(b))\n",
    "\n",
    "print(a)\n",
    "print(c)\n",
    "print(type(c))"
   ]
  },
  {
   "cell_type": "code",
   "execution_count": 4,
   "metadata": {},
   "outputs": [
    {
     "ename": "ValueError",
     "evalue": "invalid literal for int() with base 10: ''",
     "output_type": "error",
     "traceback": [
      "\u001b[1;31m---------------------------------------------------------------------------\u001b[0m",
      "\u001b[1;31mValueError\u001b[0m                                Traceback (most recent call last)",
      "Cell \u001b[1;32mIn[4], line 3\u001b[0m\n\u001b[0;32m      1\u001b[0m a \u001b[38;5;241m=\u001b[39m \u001b[38;5;28minput\u001b[39m(\u001b[38;5;124m\"\u001b[39m\u001b[38;5;124m숫자를 입력해 주세요: \u001b[39m\u001b[38;5;124m\"\u001b[39m)\n\u001b[1;32m----> 3\u001b[0m \u001b[38;5;28mprint\u001b[39m(\u001b[38;5;28;43mint\u001b[39;49m\u001b[43m(\u001b[49m\u001b[43ma\u001b[49m\u001b[43m)\u001b[49m \u001b[38;5;241m+\u001b[39m \u001b[38;5;241m10\u001b[39m)\n",
      "\u001b[1;31mValueError\u001b[0m: invalid literal for int() with base 10: ''"
     ]
    }
   ],
   "source": [
    "a = input(\"5\")\n",
    "\n",
    "print(int(a) + 10)\n"
   ]
  },
  {
   "cell_type": "code",
   "execution_count": null,
   "metadata": {},
   "outputs": [],
   "source": []
  }
 ],
 "metadata": {
  "kernelspec": {
   "display_name": "Python 3",
   "language": "python",
   "name": "python3"
  },
  "language_info": {
   "codemirror_mode": {
    "name": "ipython",
    "version": 3
   },
   "file_extension": ".py",
   "mimetype": "text/x-python",
   "name": "python",
   "nbconvert_exporter": "python",
   "pygments_lexer": "ipython3",
   "version": "3.12.4"
  }
 },
 "nbformat": 4,
 "nbformat_minor": 2
}
